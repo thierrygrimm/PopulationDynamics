{
 "cells": [
  {
   "cell_type": "markdown",
   "metadata": {},
   "source": [
    "# Genetic Drift"
   ]
  },
  {
   "cell_type": "markdown",
   "metadata": {
    "toc": true
   },
   "source": [
    "<h1>Table of Contents<span class=\"tocSkip\"></span></h1>\n",
    "<div class=\"toc\"><ul class=\"toc-item\"><li><span><a href=\"#Introduction\" data-toc-modified-id=\"Introduction-1\"><span class=\"toc-item-num\">1&nbsp;&nbsp;</span>Introduction</a></span></li><li><span><a href=\"#Imports\" data-toc-modified-id=\"Imports-2\"><span class=\"toc-item-num\">2&nbsp;&nbsp;</span>Imports</a></span></li><li><span><a href=\"#Population-Dynamics-Simulation\" data-toc-modified-id=\"Population-Dynamics-Simulation-3\"><span class=\"toc-item-num\">3&nbsp;&nbsp;</span>Population Dynamics Simulation</a></span></li><li><span><a href=\"#Different-n_initial\" data-toc-modified-id=\"Different-n_initial-4\"><span class=\"toc-item-num\">4&nbsp;&nbsp;</span>Different n_initial</a></span></li></ul></div>"
   ]
  },
  {
   "cell_type": "markdown",
   "metadata": {},
   "source": [
    "## Introduction"
   ]
  },
  {
   "cell_type": "markdown",
   "metadata": {},
   "source": [
    "Assume, there is a population of individuals that reproduce without mutation. Each individual has an equal chance\n",
    "to give rise to an individual in the new generation. The new generation is generated synchronously maintaining the\n",
    "same size as the population of the old generation. As a result, some parents will end up having multiple offsprings,\n",
    "while some parents will give rise to no offsprings.\n",
    "\n",
    "We calculate the time to the most recent common ancestor (MRCA) and compare it to an analytical statistical approximation of the expected TMRCA."
   ]
  },
  {
   "cell_type": "markdown",
   "metadata": {},
   "source": [
    "## Imports"
   ]
  },
  {
   "cell_type": "code",
   "execution_count": 1,
   "metadata": {},
   "outputs": [],
   "source": [
    "# Data manipulation\n",
    "import random\n",
    "import pandas as pd\n",
    "import numpy as np\n",
    "import matplotlib.pyplot as plt"
   ]
  },
  {
   "cell_type": "markdown",
   "metadata": {},
   "source": [
    "## Population Dynamics Simulation\n",
    "Simulate the dynamics of this population."
   ]
  },
  {
   "cell_type": "markdown",
   "metadata": {},
   "source": [
    "• Create a random population having n different individuals.\n",
    "\n",
    "• Keep producing a new generation of the same size as the old one. Stop simulation, when all individuals\n",
    "of the new generation have the same ancestor.\n"
   ]
  },
  {
   "cell_type": "code",
   "execution_count": 3,
   "metadata": {},
   "outputs": [
    {
     "data": {
      "text/plain": [
       "[[0, 1, 2, 3, 4, 5, 6, 7, 8, 9],\n",
       " [5, 1, 2, 2, 5, 1, 1, 0, 2, 1],\n",
       " [2, 1, 1, 1, 0, 5, 2, 1, 5, 0],\n",
       " [2, 1, 1, 0, 2, 1, 1, 1, 5, 5],\n",
       " [0, 2, 1, 0, 1, 1, 0, 0, 1, 1],\n",
       " [1, 0, 1, 1, 0, 1, 0, 1, 1, 0],\n",
       " [1, 1, 1, 1, 1, 0, 1, 1, 1, 1],\n",
       " [1, 0, 1, 0, 1, 1, 1, 1, 1, 0],\n",
       " [1, 1, 0, 0, 1, 1, 1, 1, 0, 0],\n",
       " [0, 0, 1, 1, 1, 1, 0, 1, 0, 1],\n",
       " [1, 1, 0, 1, 0, 1, 1, 1, 0, 0],\n",
       " [1, 1, 1, 0, 1, 0, 0, 1, 0, 0],\n",
       " [1, 0, 1, 1, 1, 1, 0, 0, 1, 0],\n",
       " [0, 1, 0, 1, 1, 0, 1, 1, 0, 0],\n",
       " [0, 1, 0, 1, 0, 1, 0, 1, 1, 0],\n",
       " [1, 1, 0, 1, 1, 1, 1, 1, 1, 0],\n",
       " [1, 1, 1, 1, 1, 0, 1, 1, 0, 1],\n",
       " [1, 0, 1, 1, 1, 1, 1, 1, 1, 1],\n",
       " [1, 1, 1, 1, 1, 1, 1, 1, 1, 1]]"
      ]
     },
     "execution_count": 3,
     "metadata": {},
     "output_type": "execute_result"
    }
   ],
   "source": [
    "def MRCA(n_initial):\n",
    "    \"\"\"\n",
    "    Calculates random development of a population of size n_initial.\n",
    "\n",
    "    Args:\n",
    "        n_initial (int): Number of initial individuals in population.\n",
    "\n",
    "    Returns:\n",
    "        population (array): Population Development Stages\n",
    "        parents (array): Linking instances in population array\n",
    "        generations (int): Number of generations until homogenity\n",
    "        TMRCA (int): Time to Most Recent Common Ancestor\n",
    "    \"\"\"\n",
    "\n",
    "    # Initialise all arrays\n",
    "    init = np.array(range(n_initial))\n",
    "    population = []\n",
    "    parents = []\n",
    "    population.append(list(init))\n",
    "    parents.append(list(init))\n",
    "\n",
    "    # Generate sequences until homogenity\n",
    "    while not all(x == init[0] for x in init):\n",
    "        rand_int = np.random.randint(0, n_initial, n_initial)\n",
    "        init[:] = init[rand_int]\n",
    "        parents.append(list(rand_int))\n",
    "        population.append(list(init))\n",
    "    \n",
    "    #Number of generations, search frame\n",
    "    generations = len(parents)-1\n",
    "    current = parents[-1]\n",
    "\n",
    "    # Iterate back through parents path\n",
    "    TMRCA, pool = 0, []\n",
    "    while len(current) > 1:\n",
    "        # Track each element\n",
    "        for i in range(len(current)):\n",
    "            previous = parents[generations-TMRCA][current[i]]\n",
    "            # If previous in pool --> Common Ancestor\n",
    "            if previous not in pool:\n",
    "                pool.append(previous)\n",
    "        # Update current frame\n",
    "        current = pool.copy()\n",
    "        pool.clear()\n",
    "        # For each row add tick to Time until MRCA\n",
    "        TMRCA += 1\n",
    "\n",
    "    return population, parents, generations, TMRCA\n",
    "\n",
    "population, parents, generations, TMRCA  = MRCA(10)\n",
    "population\n"
   ]
  },
  {
   "cell_type": "markdown",
   "metadata": {},
   "source": [
    "## Different n_initial \n",
    "Create populations having 10, 30, 100, 300 and 1000 different individuals. Simulate their dynamics as described\n",
    "above."
   ]
  },
  {
   "cell_type": "markdown",
   "metadata": {},
   "source": [
    "\n",
    "• For each population calculate the time to the most recent common ancestor (MRCA). Repeat this\n",
    "procedure 100 times.\n",
    "\n",
    "• Plot the histograms of times to MRCA for each population size. Calculate mean and standard deviation.\n",
    "\n",
    "• Plot the dependence of average time to MRCA vs. the population size, and also plot the analytical result\n",
    "for corresponding population sizes (see the lecture)."
   ]
  },
  {
   "cell_type": "code",
   "execution_count": 9,
   "metadata": {},
   "outputs": [],
   "source": [
    "n_initials = [10, 30, 100, 300, 1000]\n",
    "repetitions = 100\n",
    "TMRCA_df = []\n",
    "TMRCA_df = np.zeros((len(n_initials), repetitions))\n",
    "for i in range(len(n_initials)):\n",
    "    for n in range(repetitions):\n",
    "        TMRCA_df[i][n] = MRCA(n_initials[i])[3]"
   ]
  },
  {
   "cell_type": "code",
   "execution_count": 49,
   "metadata": {
    "scrolled": false
   },
   "outputs": [
    {
     "data": {
      "image/png": "[encoded data removed]",
      "text/plain": [
       "<Figure size 432x288 with 1 Axes>"
      ]
     },
     "metadata": {
      "needs_background": "light"
     },
     "output_type": "display_data"
    },
    {
     "name": "stdout",
     "output_type": "stream",
     "text": [
      "Mean: 7\n",
      "Standard Deviation: 4\n",
      "Estimated Analytical: 20\n"
     ]
    },
    {
     "data": {
      "image/png": "[encoded data removed]",
      "text/plain": [
       "<Figure size 432x288 with 1 Axes>"
      ]
     },
     "metadata": {
      "needs_background": "light"
     },
     "output_type": "display_data"
    },
    {
     "name": "stdout",
     "output_type": "stream",
     "text": [
      "Mean: 27\n",
      "Standard Deviation: 9\n",
      "Estimated Analytical: 60\n"
     ]
    },
    {
     "data": {
      "image/png": "[encoded data removed]",
      "text/plain": [
       "<Figure size 432x288 with 1 Axes>"
      ]
     },
     "metadata": {
      "needs_background": "light"
     },
     "output_type": "display_data"
    },
    {
     "name": "stdout",
     "output_type": "stream",
     "text": [
      "Mean: 95\n",
      "Standard Deviation: 41\n",
      "Estimated Analytical: 200\n"
     ]
    },
    {
     "data": {
      "image/png": "[encoded data removed]",
      "text/plain": [
       "<Figure size 432x288 with 1 Axes>"
      ]
     },
     "metadata": {
      "needs_background": "light"
     },
     "output_type": "display_data"
    },
    {
     "name": "stdout",
     "output_type": "stream",
     "text": [
      "Mean: 290\n",
      "Standard Deviation: 99\n",
      "Estimated Analytical: 600\n"
     ]
    },
    {
     "data": {
      "image/png": "[encoded data removed]",
      "text/plain": [
       "<Figure size 432x288 with 1 Axes>"
      ]
     },
     "metadata": {
      "needs_background": "light"
     },
     "output_type": "display_data"
    },
    {
     "name": "stdout",
     "output_type": "stream",
     "text": [
      "Mean: 991\n",
      "Standard Deviation: 393\n",
      "Estimated Analytical: 2000\n"
     ]
    },
    {
     "data": {
      "image/png": "[encoded data removed]",
      "text/plain": [
       "<Figure size 432x288 with 1 Axes>"
      ]
     },
     "metadata": {
      "needs_background": "light"
     },
     "output_type": "display_data"
    }
   ],
   "source": [
    "# Histograms Occurence Plots\n",
    "for n in range(len(n_initials)):\n",
    "    plt.hist(np.array(TMRCA_df[n]), bins='auto')\n",
    "    plt.title('Intial Pool of %d' % n_initials[n])\n",
    "    plt.xlabel('TMRCA')\n",
    "    plt.ylabel('Occurence')\n",
    "    plt.show()\n",
    "    print(\"Mean: %d\" % np.mean(TMRCA_df[n]))\n",
    "    print(\"Standard Deviation: %d\" % np.std(TMRCA_df[n]))\n",
    "    print(\"Estimated Analytical: %d\" % (n_initials[n]*2))\n",
    "\n",
    "# Histograms Average TMRCA\n",
    "width = 0.35\n",
    "y = np.arange(len(n_initials))\n",
    "plt.bar(y, [np.mean(x) for x in TMRCA_df], width, label='Simulated')\n",
    "plt.bar(y+width, [2*n for n in n_initials], width, label='Analytical')\n",
    "plt.xticks(y + width / 2, n_initials)\n",
    "plt.title('Average Time to MRCA')\n",
    "plt.ylabel('TMRCA')\n",
    "plt.legend(loc='best')\n",
    "plt.show()"
   ]
  }
 ],
 "metadata": {
  "kernelspec": {
   "display_name": "Python 3",
   "language": "python",
   "name": "python3"
  },
  "language_info": {
   "codemirror_mode": {
    "name": "ipython",
    "version": 3
   },
   "file_extension": ".py",
   "mimetype": "text/x-python",
   "name": "python",
   "nbconvert_exporter": "python",
   "pygments_lexer": "ipython3",
   "version": "3.7.1"
  },
  "toc": {
   "base_numbering": 1,
   "nav_menu": {},
   "number_sections": true,
   "sideBar": true,
   "skip_h1_title": true,
   "title_cell": "Table of Contents",
   "title_sidebar": "Contents",
   "toc_cell": true,
   "toc_position": {
    "height": "calc(100% - 180px)",
    "left": "10px",
    "top": "150px",
    "width": "294.796875px"
   },
   "toc_section_display": true,
   "toc_window_display": true
  }
 },
 "nbformat": 4,
 "nbformat_minor": 2
}
