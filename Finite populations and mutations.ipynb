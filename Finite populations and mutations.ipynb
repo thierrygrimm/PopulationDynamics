{
 "cells": [
  {
   "cell_type": "markdown",
   "metadata": {},
   "source": [
    "# Finite populations and mutations"
   ]
  },
  {
   "cell_type": "markdown",
   "metadata": {
    "toc": true
   },
   "source": [
    "<h1>Table of Contents<span class=\"tocSkip\"></span></h1>\n",
    "<div class=\"toc\"><ul class=\"toc-item\"><li><span><a href=\"#Introduction\" data-toc-modified-id=\"Introduction-1\"><span class=\"toc-item-num\">1&nbsp;&nbsp;</span>Introduction</a></span></li><li><span><a href=\"#Imports\" data-toc-modified-id=\"Imports-2\"><span class=\"toc-item-num\">2&nbsp;&nbsp;</span>Imports</a></span></li><li><span><a href=\"#Mutation-Model\" data-toc-modified-id=\"Mutation-Model-3\"><span class=\"toc-item-num\">3&nbsp;&nbsp;</span>Mutation Model</a></span></li><li><span><a href=\"#Simulation-run\" data-toc-modified-id=\"Simulation-run-4\"><span class=\"toc-item-num\">4&nbsp;&nbsp;</span>Simulation run</a></span></li><li><span><a href=\"#Analysis\" data-toc-modified-id=\"Analysis-5\"><span class=\"toc-item-num\">5&nbsp;&nbsp;</span>Analysis</a></span></li></ul></div>"
   ]
  },
  {
   "cell_type": "markdown",
   "metadata": {},
   "source": [
    "## Introduction"
   ]
  },
  {
   "cell_type": "markdown",
   "metadata": {},
   "source": [
    "We run a simulation for the evolution of a population of fixed size, each individual having equal probability of reproduction, but we now also allow mutations. "
   ]
  },
  {
   "cell_type": "markdown",
   "metadata": {},
   "source": [
    "Create populations having\n",
    "10, 30, 100, 300 and 1000 different individuals. As a probability that a mutation occurs in an individual consider\n",
    "0.001, 0.003, 0.01, 0.03, 0.1. Simulate dynamics of the population until all individuals of the generation come from\n",
    "the same ancestor for every population size and for each mutation rate 10 times. Assume that each time a mutation\n",
    "occurs, it leads to a new “allele”. For every population size and every mutation rate we want to determine:\n",
    "    \n",
    "1. The mean number of unique mutations that occurred in the entire phylogenetic tree until all individuals derive\n",
    "from a single ancestor.\n",
    "\n",
    "\n",
    "2. The mean number of differences between two random individuals in the final population, i.e., how many\n",
    "different ‘alleles’ they have.\n",
    "Do these results match the analytical results that we derived in the lecture? Show it on the plot."
   ]
  },
  {
   "cell_type": "markdown",
   "metadata": {},
   "source": [
    "## Imports"
   ]
  },
  {
   "cell_type": "code",
   "execution_count": 1,
   "metadata": {},
   "outputs": [],
   "source": [
    "# Data manipulation\n",
    "import random\n",
    "import pandas as pd\n",
    "import numpy as np\n",
    "import matplotlib.pyplot as plt"
   ]
  },
  {
   "cell_type": "markdown",
   "metadata": {},
   "source": [
    "## Mutation Model"
   ]
  },
  {
   "cell_type": "code",
   "execution_count": 1091,
   "metadata": {},
   "outputs": [],
   "source": [
    "def genetic_drift(n_initial, mutation_rate, mean_sampling_rate=30):\n",
    "    \"\"\"\n",
    "    Calculates random development of a population of size n_initial with mutations.\n",
    "\n",
    "    Args:\n",
    "        n_initial (int): Number of initial individuals in population.\n",
    "        mutation_rate (float): Mutation Probability for each individual\n",
    "        mean_sampling_rate (float): How many random sample pairs to estimate difference.\n",
    "\n",
    "    Returns:\n",
    "        differences (int): Average number of unique differences\n",
    "        parents (array): Linking instances in population array\n",
    "        generations (int): Number of generations until homogenity\n",
    "        TMRCA (int): Time to Most Recent Common Ancestor\n",
    "        num_mutations (int): Number of mutations\n",
    "        unique_mutations (int): Mean number of unique mutations until MRCA\n",
    "\n",
    "    \"\"\"\n",
    "\n",
    "    # Initialise all arrays\n",
    "    init = np.array(range(n_initial))\n",
    "    population = []\n",
    "    parents = []\n",
    "    mutations = [[0] * n_initial]\n",
    "    population.append(list(init))\n",
    "    parents.append(list(init))\n",
    "    mut_index = 1\n",
    "\n",
    "    # Generate sequences until homogenity\n",
    "    while not all([x == init[0] for x in init]):\n",
    "        rand_int = np.random.randint(0, n_initial, n_initial)\n",
    "        init[:] = init[rand_int]\n",
    "        mutation_row = []  # mutations\n",
    "\n",
    "        # Mutations array\n",
    "        for x in range(n_initial):\n",
    "            num = random.random()\n",
    "            mutation_row.append(int(num <= mutation_rate)*mut_index)\n",
    "            if num <= mutation_rate:\n",
    "                mut_index += 1\n",
    "\n",
    "        mutations.append(mutation_row)\n",
    "        parents.append(list(rand_int))\n",
    "        population.append(list(init))\n",
    "\n",
    "    num_mutations = np.max(mutations)\n",
    "    generations = len(parents)-1\n",
    "\n",
    "    # One-hot encoded array of different mutations\n",
    "    ohe = np.zeros((len(parents), n_initial, num_mutations))\n",
    "\n",
    "    # For each mutation\n",
    "    for i in range(num_mutations):\n",
    "        # Set seed\n",
    "        seed_row, seed_col = tuple(np.argwhere(np.array(mutations) == i+1)[0])\n",
    "        ohe[seed_row][seed_col][i] = 1\n",
    "\n",
    "        # For each child row\n",
    "        remain_tick = generations-seed_row  # eg 3 ticks === remaining rows\n",
    "        while remain_tick > 0:\n",
    "            # For each element\n",
    "            for child in range(n_initial):  # eg 4 individuals\n",
    "                # Child mutations same as parents mutation\n",
    "                par = parents[-remain_tick][child]\n",
    "                ohe[-remain_tick, child, i] = ohe[-(remain_tick+1)][par][i]\n",
    "            remain_tick -= 1\n",
    "\n",
    "    diff = 0\n",
    "    for s in range(mean_sampling_rate):\n",
    "        pos1, pos2 = np.random.randint(0, n_initial, 2)\n",
    "        while pos1 == pos2:\n",
    "            pos2 = np.random.randint(0, n_initial)\n",
    "        diff += sum([int(a)\n",
    "                     for a in np.array(ohe[-1, pos1, :] != ohe[-1, pos2, :])])\n",
    "\n",
    "    differences = diff/mean_sampling_rate\n",
    "\n",
    "    # Number of generations, search frame\n",
    "    current = parents[-1]\n",
    "\n",
    "    # Iterate back through parents path\n",
    "    TMRCA, pool = 0, []\n",
    "    while len(current) > 1:\n",
    "        # Track each element\n",
    "        for i in range(len(current)):\n",
    "            previous = parents[generations-TMRCA][current[i]]\n",
    "            # If previous in pool --> Common Ancestor\n",
    "            if previous not in pool:\n",
    "                pool.append(previous)\n",
    "        # Update current frame\n",
    "        current = pool.copy()\n",
    "        pool.clear()\n",
    "        # For each row add tick to Time until MRCA\n",
    "        TMRCA += 1\n",
    "\n",
    "    tree = np.argwhere(np.array(population[-TMRCA:]) == population[-1][0])\n",
    "    tree[:, 0] += len(parents)-TMRCA\n",
    "    unique_mutations = np.sum(\n",
    "        [np.array(mutations)[tuple(node)] != 0 for node in tree])/len(tree)\n",
    "\n",
    "    return differences, parents, population, TMRCA, mutations, num_mutations, unique_mutations\n",
    "#            dif, par, pop, TMRCA, mut, num_mut, uniq = "
   ]
  },
  {
   "cell_type": "markdown",
   "metadata": {},
   "source": [
    "## Simulation run"
   ]
  },
  {
   "cell_type": "code",
   "execution_count": 1111,
   "metadata": {},
   "outputs": [],
   "source": [
    "mut_rates = [0.001, 0.003, 0.01, 0.03, 0.1]\n",
    "n_initials = [10, 30, 100, 300, 1000]\n",
    "repetitions = 10\n",
    "Genetic_Drift_df = np.zeros((len(n_initials), len(mut_rates)))\n",
    "Genome_length = np.zeros((len(n_initials), len(mut_rates)))"
   ]
  },
  {
   "cell_type": "code",
   "execution_count": null,
   "metadata": {},
   "outputs": [],
   "source": [
    "for n in range(len(n_initials)):\n",
    "    print(n_initials[n])\n",
    "    for m in range(len(mut_rates)):\n",
    "        %store Genetic_Drift_df > drift.txt\n",
    "        %store Genome_length > length.txt\n",
    "        for rep in range(repetitions):\n",
    "            dif, par, pop, TMRCA, mut, num_mut, uniq = genetic_drift(n_initials[n], mut_rates[m])\n",
    "            Genetic_Drift_df[n][m] += dif/10\n",
    "            Genome_length[n][m] += num_mut/10"
   ]
  },
  {
   "cell_type": "code",
   "execution_count": 1113,
   "metadata": {},
   "outputs": [
    {
     "data": {
      "text/plain": [
       "array([[ 0.        ,  0.05      ,  0.05      ,  0.28666667,  0.89333333],\n",
       "       [ 0.04333333,  0.08      ,  0.22666667,  0.83333333,  3.40333333],\n",
       "       [ 0.13      ,  0.34333333,  1.33      ,  2.61      , 11.29      ],\n",
       "       [ 0.35333333,  0.        ,  0.        ,  0.        ,  0.        ],\n",
       "       [ 0.        ,  0.        ,  0.        ,  0.        ,  0.        ]])"
      ]
     },
     "execution_count": 1113,
     "metadata": {},
     "output_type": "execute_result"
    }
   ],
   "source": [
    "Genetic_Drift_df"
   ]
  },
  {
   "cell_type": "markdown",
   "metadata": {},
   "source": [
    "## Analysis"
   ]
  },
  {
   "cell_type": "code",
   "execution_count": 1116,
   "metadata": {},
   "outputs": [],
   "source": [
    "Analytical_df = np.zeros((len(n_initials), len(mut_rates)))\n",
    "for n in range(len(n_initials)):\n",
    "    for m in range(len(mut_rates)):\n",
    "        Analytical_df[n][m] = 2*n_initials[n]*mut_rates[m] #*Genome_length[n][m]"
   ]
  },
  {
   "cell_type": "code",
   "execution_count": 1117,
   "metadata": {},
   "outputs": [
    {
     "data": {
      "image/png": "[encoded data removed]",
      "text/plain": [
       "<Figure size 432x288 with 1 Axes>"
      ]
     },
     "metadata": {
      "needs_background": "light"
     },
     "output_type": "display_data"
    },
    {
     "data": {
      "image/png": "[encoded data removed]",
      "text/plain": [
       "<Figure size 432x288 with 1 Axes>"
      ]
     },
     "metadata": {
      "needs_background": "light"
     },
     "output_type": "display_data"
    },
    {
     "data": {
      "image/png": "[encoded data removed]",
      "text/plain": [
       "<Figure size 432x288 with 1 Axes>"
      ]
     },
     "metadata": {
      "needs_background": "light"
     },
     "output_type": "display_data"
    },
    {
     "data": {
      "image/png": "[encoded data removed]",
      "text/plain": [
       "<Figure size 432x288 with 1 Axes>"
      ]
     },
     "metadata": {
      "needs_background": "light"
     },
     "output_type": "display_data"
    },
    {
     "data": {
      "image/png": "[encoded data removed]",
      "text/plain": [
       "<Figure size 432x288 with 1 Axes>"
      ]
     },
     "metadata": {
      "needs_background": "light"
     },
     "output_type": "display_data"
    }
   ],
   "source": [
    "for n in range(len(n_initials)):\n",
    "    width = 0.35\n",
    "    y = np.arange(len(mut_rates))\n",
    "    plt.bar(y, Genetic_Drift_df[n], width, label='Simulated')\n",
    "    plt.bar(y+width, Analytical_df[n], width, label='Analytical')\n",
    "    plt.xticks(y + width / 2, mut_rates)\n",
    "    plt.title('Different alleles for %d individuals' % n_initials[n])\n",
    "    plt.ylabel('Difference')\n",
    "    plt.xlabel('Mutation Rate')\n",
    "    plt.legend(loc='best')\n",
    "    plt.show()"
   ]
  }
 ],
 "metadata": {
  "kernelspec": {
   "display_name": "Python 3",
   "language": "python",
   "name": "python3"
  },
  "language_info": {
   "codemirror_mode": {
    "name": "ipython",
    "version": 3
   },
   "file_extension": ".py",
   "mimetype": "text/x-python",
   "name": "python",
   "nbconvert_exporter": "python",
   "pygments_lexer": "ipython3",
   "version": "3.7.1"
  },
  "toc": {
   "base_numbering": 1,
   "nav_menu": {},
   "number_sections": true,
   "sideBar": true,
   "skip_h1_title": true,
   "title_cell": "Table of Contents",
   "title_sidebar": "Contents",
   "toc_cell": true,
   "toc_position": {},
   "toc_section_display": true,
   "toc_window_display": true
  }
 },
 "nbformat": 4,
 "nbformat_minor": 2
}
